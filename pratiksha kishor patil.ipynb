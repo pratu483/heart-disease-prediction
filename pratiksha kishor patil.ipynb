{
 "cells": [
  {
   "cell_type": "markdown",
   "id": "2c5e6116",
   "metadata": {
    "papermill": {
     "duration": 0.018948,
     "end_time": "2023-08-09T17:50:46.539658",
     "exception": false,
     "start_time": "2023-08-09T17:50:46.520710",
     "status": "completed"
    },
    "tags": []
   },
   "source": [
    "# Introduction"
   ]
  },
  {
   "cell_type": "raw",
   "id": "0828c18a",
   "metadata": {
    "papermill": {
     "duration": 0.019721,
     "end_time": "2023-08-09T17:50:46.578097",
     "exception": false,
     "start_time": "2023-08-09T17:50:46.558376",
     "status": "completed"
    },
    "tags": []
   },
   "source": [
    "This data set dates from 1988 and consists of four databases: Cleveland, Hungary, Switzerland, and Long Beach V. It contains 76 attributes, including the predicted attribute, but all published experiments refer to using a subset of 14 of them.\n",
    "\n",
    "* age: age of the patient\n",
    "* sex: sex of the patient\n",
    "* cp: chest pain type (4 values)\n",
    "* trestbps: resting blood pressure\n",
    "* chol: serum cholestoral in mg/dl\n",
    "* fbs: fasting blood sugar > 120 mg/dl\n",
    "* restecg: resting electrocardiographic results (values 0,1,2)\n",
    "* thalach: maximum heart rate achieved88\n",
    "* exang: exercise induced angina\n",
    "* oldpeak: ST depression induced by exercise relative to rest\n",
    "* slope: the slope of the peak exercise ST segment\n",
    "* ca: number of major vessels (0-3) colored by flourosopy\n",
    "* thal: 0 = normal; 1 = fixed defect; 2 = reversable defect\n",
    "* target: presence of heart disease in the patient\n",
    "\n",
    "Here, 0 = no disease and 1 = disease."
   ]
  },
  {
   "cell_type": "markdown",
   "id": "f6ec5bad",
   "metadata": {},
   "source": [
    "# Name: Pratiksha Kishor Patil\n",
    "Batch: ML9    "
   ]
  },
  {
   "cell_type": "markdown",
   "id": "767fde09",
   "metadata": {
    "papermill": {
     "duration": 0.018106,
     "end_time": "2023-08-09T17:50:46.615928",
     "exception": false,
     "start_time": "2023-08-09T17:50:46.597822",
     "status": "completed"
    },
    "tags": []
   },
   "source": [
    "# Exploratory Data Analysis (EDA)"
   ]
  },
  {
   "cell_type": "code",
   "execution_count": 60,
   "id": "c382f79e",
   "metadata": {
    "_cell_guid": "b1076dfc-b9ad-4769-8c92-a6c4dae69d19",
    "_uuid": "8f2839f25d086af736a60e9eeb907d3b93b6e0e5",
    "execution": {
     "iopub.execute_input": "2023-08-09T17:50:46.690403Z",
     "iopub.status.busy": "2023-08-09T17:50:46.689738Z",
     "iopub.status.idle": "2023-08-09T17:50:48.326831Z",
     "shell.execute_reply": "2023-08-09T17:50:48.325644Z"
    },
    "papermill": {
     "duration": 1.660029,
     "end_time": "2023-08-09T17:50:48.329983",
     "exception": false,
     "start_time": "2023-08-09T17:50:46.669954",
     "status": "completed"
    },
    "tags": []
   },
   "outputs": [],
   "source": [
    "import numpy as np\n",
    "import pandas as pd \n",
    "import matplotlib.pyplot as plt\n",
    "import seaborn as sns\n",
    "\n",
    "%matplotlib inline\n",
    "\n",
    "import warnings\n",
    "warnings.filterwarnings(\"ignore\")"
   ]
  },
  {
   "cell_type": "markdown",
   "id": "2c760f8d",
   "metadata": {
    "papermill": {
     "duration": 0.018125,
     "end_time": "2023-08-09T17:50:48.367163",
     "exception": false,
     "start_time": "2023-08-09T17:50:48.349038",
     "status": "completed"
    },
    "tags": []
   },
   "source": [
    "**Importing the CSV file**"
   ]
  },
  {
   "cell_type": "code",
   "execution_count": 61,
   "id": "dd251483",
   "metadata": {
    "execution": {
     "iopub.execute_input": "2023-08-09T17:50:48.405766Z",
     "iopub.status.busy": "2023-08-09T17:50:48.405381Z",
     "iopub.status.idle": "2023-08-09T17:50:48.439356Z",
     "shell.execute_reply": "2023-08-09T17:50:48.438294Z"
    },
    "papermill": {
     "duration": 0.056354,
     "end_time": "2023-08-09T17:50:48.441922",
     "exception": false,
     "start_time": "2023-08-09T17:50:48.385568",
     "status": "completed"
    },
    "tags": []
   },
   "outputs": [],
   "source": [
    "df=pd.read_csv(\"heart.csv\")"
   ]
  },
  {
   "cell_type": "markdown",
   "id": "15c07db6",
   "metadata": {
    "papermill": {
     "duration": 0.018139,
     "end_time": "2023-08-09T17:50:48.478761",
     "exception": false,
     "start_time": "2023-08-09T17:50:48.460622",
     "status": "completed"
    },
    "tags": []
   },
   "source": [
    "**Top 5 rows of the dataset**"
   ]
  },
  {
   "cell_type": "code",
   "execution_count": 62,
   "id": "0a050e5e",
   "metadata": {
    "execution": {
     "iopub.execute_input": "2023-08-09T17:50:48.520060Z",
     "iopub.status.busy": "2023-08-09T17:50:48.519255Z",
     "iopub.status.idle": "2023-08-09T17:50:48.545712Z",
     "shell.execute_reply": "2023-08-09T17:50:48.544808Z"
    },
    "papermill": {
     "duration": 0.048905,
     "end_time": "2023-08-09T17:50:48.548068",
     "exception": false,
     "start_time": "2023-08-09T17:50:48.499163",
     "status": "completed"
    },
    "tags": []
   },
   "outputs": [
    {
     "data": {
      "text/html": [
       "<div>\n",
       "<style scoped>\n",
       "    .dataframe tbody tr th:only-of-type {\n",
       "        vertical-align: middle;\n",
       "    }\n",
       "\n",
       "    .dataframe tbody tr th {\n",
       "        vertical-align: top;\n",
       "    }\n",
       "\n",
       "    .dataframe thead th {\n",
       "        text-align: right;\n",
       "    }\n",
       "</style>\n",
       "<table border=\"1\" class=\"dataframe\">\n",
       "  <thead>\n",
       "    <tr style=\"text-align: right;\">\n",
       "      <th></th>\n",
       "      <th>Age</th>\n",
       "      <th>Sex</th>\n",
       "      <th>ChestPainType</th>\n",
       "      <th>RestingBP</th>\n",
       "      <th>Cholesterol</th>\n",
       "      <th>FastingBS</th>\n",
       "      <th>RestingECG</th>\n",
       "      <th>MaxHR</th>\n",
       "      <th>ExerciseAngina</th>\n",
       "      <th>Oldpeak</th>\n",
       "      <th>ST_Slope</th>\n",
       "      <th>HeartDisease</th>\n",
       "    </tr>\n",
       "  </thead>\n",
       "  <tbody>\n",
       "    <tr>\n",
       "      <th>0</th>\n",
       "      <td>40</td>\n",
       "      <td>M</td>\n",
       "      <td>ATA</td>\n",
       "      <td>140</td>\n",
       "      <td>289</td>\n",
       "      <td>0</td>\n",
       "      <td>Normal</td>\n",
       "      <td>172</td>\n",
       "      <td>N</td>\n",
       "      <td>0.0</td>\n",
       "      <td>Up</td>\n",
       "      <td>0</td>\n",
       "    </tr>\n",
       "    <tr>\n",
       "      <th>1</th>\n",
       "      <td>49</td>\n",
       "      <td>F</td>\n",
       "      <td>NAP</td>\n",
       "      <td>160</td>\n",
       "      <td>180</td>\n",
       "      <td>0</td>\n",
       "      <td>Normal</td>\n",
       "      <td>156</td>\n",
       "      <td>N</td>\n",
       "      <td>1.0</td>\n",
       "      <td>Flat</td>\n",
       "      <td>1</td>\n",
       "    </tr>\n",
       "    <tr>\n",
       "      <th>2</th>\n",
       "      <td>37</td>\n",
       "      <td>M</td>\n",
       "      <td>ATA</td>\n",
       "      <td>130</td>\n",
       "      <td>283</td>\n",
       "      <td>0</td>\n",
       "      <td>ST</td>\n",
       "      <td>98</td>\n",
       "      <td>N</td>\n",
       "      <td>0.0</td>\n",
       "      <td>Up</td>\n",
       "      <td>0</td>\n",
       "    </tr>\n",
       "    <tr>\n",
       "      <th>3</th>\n",
       "      <td>48</td>\n",
       "      <td>F</td>\n",
       "      <td>ASY</td>\n",
       "      <td>138</td>\n",
       "      <td>214</td>\n",
       "      <td>0</td>\n",
       "      <td>Normal</td>\n",
       "      <td>108</td>\n",
       "      <td>Y</td>\n",
       "      <td>1.5</td>\n",
       "      <td>Flat</td>\n",
       "      <td>1</td>\n",
       "    </tr>\n",
       "    <tr>\n",
       "      <th>4</th>\n",
       "      <td>54</td>\n",
       "      <td>M</td>\n",
       "      <td>NAP</td>\n",
       "      <td>150</td>\n",
       "      <td>195</td>\n",
       "      <td>0</td>\n",
       "      <td>Normal</td>\n",
       "      <td>122</td>\n",
       "      <td>N</td>\n",
       "      <td>0.0</td>\n",
       "      <td>Up</td>\n",
       "      <td>0</td>\n",
       "    </tr>\n",
       "  </tbody>\n",
       "</table>\n",
       "</div>"
      ],
      "text/plain": [
       "   Age Sex ChestPainType  RestingBP  Cholesterol  FastingBS RestingECG  MaxHR  \\\n",
       "0   40   M           ATA        140          289          0     Normal    172   \n",
       "1   49   F           NAP        160          180          0     Normal    156   \n",
       "2   37   M           ATA        130          283          0         ST     98   \n",
       "3   48   F           ASY        138          214          0     Normal    108   \n",
       "4   54   M           NAP        150          195          0     Normal    122   \n",
       "\n",
       "  ExerciseAngina  Oldpeak ST_Slope  HeartDisease  \n",
       "0              N      0.0       Up             0  \n",
       "1              N      1.0     Flat             1  \n",
       "2              N      0.0       Up             0  \n",
       "3              Y      1.5     Flat             1  \n",
       "4              N      0.0       Up             0  "
      ]
     },
     "execution_count": 62,
     "metadata": {},
     "output_type": "execute_result"
    }
   ],
   "source": [
    "df.head()"
   ]
  },
  {
   "cell_type": "code",
   "execution_count": 63,
   "id": "6f2c2daa",
   "metadata": {},
   "outputs": [
    {
     "data": {
      "text/html": [
       "<div>\n",
       "<style scoped>\n",
       "    .dataframe tbody tr th:only-of-type {\n",
       "        vertical-align: middle;\n",
       "    }\n",
       "\n",
       "    .dataframe tbody tr th {\n",
       "        vertical-align: top;\n",
       "    }\n",
       "\n",
       "    .dataframe thead th {\n",
       "        text-align: right;\n",
       "    }\n",
       "</style>\n",
       "<table border=\"1\" class=\"dataframe\">\n",
       "  <thead>\n",
       "    <tr style=\"text-align: right;\">\n",
       "      <th></th>\n",
       "      <th>Age</th>\n",
       "      <th>Sex</th>\n",
       "      <th>ChestPainType</th>\n",
       "      <th>RestingBP</th>\n",
       "      <th>Cholesterol</th>\n",
       "      <th>FastingBS</th>\n",
       "      <th>RestingECG</th>\n",
       "      <th>MaxHR</th>\n",
       "      <th>ExerciseAngina</th>\n",
       "      <th>Oldpeak</th>\n",
       "      <th>ST_Slope</th>\n",
       "      <th>HeartDisease</th>\n",
       "    </tr>\n",
       "  </thead>\n",
       "  <tbody>\n",
       "    <tr>\n",
       "      <th>913</th>\n",
       "      <td>45</td>\n",
       "      <td>M</td>\n",
       "      <td>TA</td>\n",
       "      <td>110</td>\n",
       "      <td>264</td>\n",
       "      <td>0</td>\n",
       "      <td>Normal</td>\n",
       "      <td>132</td>\n",
       "      <td>N</td>\n",
       "      <td>1.2</td>\n",
       "      <td>Flat</td>\n",
       "      <td>1</td>\n",
       "    </tr>\n",
       "    <tr>\n",
       "      <th>914</th>\n",
       "      <td>68</td>\n",
       "      <td>M</td>\n",
       "      <td>ASY</td>\n",
       "      <td>144</td>\n",
       "      <td>193</td>\n",
       "      <td>1</td>\n",
       "      <td>Normal</td>\n",
       "      <td>141</td>\n",
       "      <td>N</td>\n",
       "      <td>3.4</td>\n",
       "      <td>Flat</td>\n",
       "      <td>1</td>\n",
       "    </tr>\n",
       "    <tr>\n",
       "      <th>915</th>\n",
       "      <td>57</td>\n",
       "      <td>M</td>\n",
       "      <td>ASY</td>\n",
       "      <td>130</td>\n",
       "      <td>131</td>\n",
       "      <td>0</td>\n",
       "      <td>Normal</td>\n",
       "      <td>115</td>\n",
       "      <td>Y</td>\n",
       "      <td>1.2</td>\n",
       "      <td>Flat</td>\n",
       "      <td>1</td>\n",
       "    </tr>\n",
       "    <tr>\n",
       "      <th>916</th>\n",
       "      <td>57</td>\n",
       "      <td>F</td>\n",
       "      <td>ATA</td>\n",
       "      <td>130</td>\n",
       "      <td>236</td>\n",
       "      <td>0</td>\n",
       "      <td>LVH</td>\n",
       "      <td>174</td>\n",
       "      <td>N</td>\n",
       "      <td>0.0</td>\n",
       "      <td>Flat</td>\n",
       "      <td>1</td>\n",
       "    </tr>\n",
       "    <tr>\n",
       "      <th>917</th>\n",
       "      <td>38</td>\n",
       "      <td>M</td>\n",
       "      <td>NAP</td>\n",
       "      <td>138</td>\n",
       "      <td>175</td>\n",
       "      <td>0</td>\n",
       "      <td>Normal</td>\n",
       "      <td>173</td>\n",
       "      <td>N</td>\n",
       "      <td>0.0</td>\n",
       "      <td>Up</td>\n",
       "      <td>0</td>\n",
       "    </tr>\n",
       "  </tbody>\n",
       "</table>\n",
       "</div>"
      ],
      "text/plain": [
       "     Age Sex ChestPainType  RestingBP  Cholesterol  FastingBS RestingECG  \\\n",
       "913   45   M            TA        110          264          0     Normal   \n",
       "914   68   M           ASY        144          193          1     Normal   \n",
       "915   57   M           ASY        130          131          0     Normal   \n",
       "916   57   F           ATA        130          236          0        LVH   \n",
       "917   38   M           NAP        138          175          0     Normal   \n",
       "\n",
       "     MaxHR ExerciseAngina  Oldpeak ST_Slope  HeartDisease  \n",
       "913    132              N      1.2     Flat             1  \n",
       "914    141              N      3.4     Flat             1  \n",
       "915    115              Y      1.2     Flat             1  \n",
       "916    174              N      0.0     Flat             1  \n",
       "917    173              N      0.0       Up             0  "
      ]
     },
     "execution_count": 63,
     "metadata": {},
     "output_type": "execute_result"
    }
   ],
   "source": [
    "df.tail()"
   ]
  },
  {
   "cell_type": "code",
   "execution_count": 64,
   "id": "93197af1",
   "metadata": {
    "execution": {
     "iopub.execute_input": "2023-08-09T17:50:48.587932Z",
     "iopub.status.busy": "2023-08-09T17:50:48.587490Z",
     "iopub.status.idle": "2023-08-09T17:50:48.615711Z",
     "shell.execute_reply": "2023-08-09T17:50:48.614032Z"
    },
    "papermill": {
     "duration": 0.051385,
     "end_time": "2023-08-09T17:50:48.618377",
     "exception": false,
     "start_time": "2023-08-09T17:50:48.566992",
     "status": "completed"
    },
    "tags": []
   },
   "outputs": [
    {
     "name": "stdout",
     "output_type": "stream",
     "text": [
      "<class 'pandas.core.frame.DataFrame'>\n",
      "RangeIndex: 918 entries, 0 to 917\n",
      "Data columns (total 12 columns):\n",
      " #   Column          Non-Null Count  Dtype  \n",
      "---  ------          --------------  -----  \n",
      " 0   Age             918 non-null    int64  \n",
      " 1   Sex             918 non-null    object \n",
      " 2   ChestPainType   918 non-null    object \n",
      " 3   RestingBP       918 non-null    int64  \n",
      " 4   Cholesterol     918 non-null    int64  \n",
      " 5   FastingBS       918 non-null    int64  \n",
      " 6   RestingECG      918 non-null    object \n",
      " 7   MaxHR           918 non-null    int64  \n",
      " 8   ExerciseAngina  918 non-null    object \n",
      " 9   Oldpeak         918 non-null    float64\n",
      " 10  ST_Slope        918 non-null    object \n",
      " 11  HeartDisease    918 non-null    int64  \n",
      "dtypes: float64(1), int64(6), object(5)\n",
      "memory usage: 86.2+ KB\n"
     ]
    }
   ],
   "source": [
    "df.info()"
   ]
  },
  {
   "cell_type": "code",
   "execution_count": 65,
   "id": "6e96c60c",
   "metadata": {},
   "outputs": [
    {
     "data": {
      "text/plain": [
       "(918, 12)"
      ]
     },
     "execution_count": 65,
     "metadata": {},
     "output_type": "execute_result"
    }
   ],
   "source": [
    "df.shape"
   ]
  },
  {
   "cell_type": "markdown",
   "id": "88eb2a05",
   "metadata": {
    "papermill": {
     "duration": 0.019042,
     "end_time": "2023-08-09T17:50:48.656328",
     "exception": false,
     "start_time": "2023-08-09T17:50:48.637286",
     "status": "completed"
    },
    "tags": []
   },
   "source": [
    "**Number of null values in each column**"
   ]
  },
  {
   "cell_type": "code",
   "execution_count": 66,
   "id": "f2c871a9",
   "metadata": {
    "execution": {
     "iopub.execute_input": "2023-08-09T17:50:48.695373Z",
     "iopub.status.busy": "2023-08-09T17:50:48.694976Z",
     "iopub.status.idle": "2023-08-09T17:50:48.705012Z",
     "shell.execute_reply": "2023-08-09T17:50:48.703920Z"
    },
    "papermill": {
     "duration": 0.03238,
     "end_time": "2023-08-09T17:50:48.707342",
     "exception": false,
     "start_time": "2023-08-09T17:50:48.674962",
     "status": "completed"
    },
    "tags": []
   },
   "outputs": [
    {
     "data": {
      "text/plain": [
       "Age               0\n",
       "Sex               0\n",
       "ChestPainType     0\n",
       "RestingBP         0\n",
       "Cholesterol       0\n",
       "FastingBS         0\n",
       "RestingECG        0\n",
       "MaxHR             0\n",
       "ExerciseAngina    0\n",
       "Oldpeak           0\n",
       "ST_Slope          0\n",
       "HeartDisease      0\n",
       "dtype: int64"
      ]
     },
     "execution_count": 66,
     "metadata": {},
     "output_type": "execute_result"
    }
   ],
   "source": [
    "df.isnull().sum()"
   ]
  },
  {
   "cell_type": "markdown",
   "id": "0dfda7cd",
   "metadata": {
    "papermill": {
     "duration": 0.018793,
     "end_time": "2023-08-09T17:50:48.745026",
     "exception": false,
     "start_time": "2023-08-09T17:50:48.726233",
     "status": "completed"
    },
    "tags": []
   },
   "source": [
    "**Descriptive Statistics of the Dataset**"
   ]
  },
  {
   "cell_type": "code",
   "execution_count": 67,
   "id": "a29a6f37",
   "metadata": {
    "execution": {
     "iopub.execute_input": "2023-08-09T17:50:48.789627Z",
     "iopub.status.busy": "2023-08-09T17:50:48.788913Z",
     "iopub.status.idle": "2023-08-09T17:50:48.851053Z",
     "shell.execute_reply": "2023-08-09T17:50:48.849596Z"
    },
    "papermill": {
     "duration": 0.087613,
     "end_time": "2023-08-09T17:50:48.854312",
     "exception": false,
     "start_time": "2023-08-09T17:50:48.766699",
     "status": "completed"
    },
    "tags": []
   },
   "outputs": [
    {
     "data": {
      "text/html": [
       "<div>\n",
       "<style scoped>\n",
       "    .dataframe tbody tr th:only-of-type {\n",
       "        vertical-align: middle;\n",
       "    }\n",
       "\n",
       "    .dataframe tbody tr th {\n",
       "        vertical-align: top;\n",
       "    }\n",
       "\n",
       "    .dataframe thead th {\n",
       "        text-align: right;\n",
       "    }\n",
       "</style>\n",
       "<table border=\"1\" class=\"dataframe\">\n",
       "  <thead>\n",
       "    <tr style=\"text-align: right;\">\n",
       "      <th></th>\n",
       "      <th>Age</th>\n",
       "      <th>RestingBP</th>\n",
       "      <th>Cholesterol</th>\n",
       "      <th>FastingBS</th>\n",
       "      <th>MaxHR</th>\n",
       "      <th>Oldpeak</th>\n",
       "      <th>HeartDisease</th>\n",
       "    </tr>\n",
       "  </thead>\n",
       "  <tbody>\n",
       "    <tr>\n",
       "      <th>count</th>\n",
       "      <td>918.000000</td>\n",
       "      <td>918.000000</td>\n",
       "      <td>918.000000</td>\n",
       "      <td>918.000000</td>\n",
       "      <td>918.000000</td>\n",
       "      <td>918.000000</td>\n",
       "      <td>918.000000</td>\n",
       "    </tr>\n",
       "    <tr>\n",
       "      <th>mean</th>\n",
       "      <td>53.510893</td>\n",
       "      <td>132.396514</td>\n",
       "      <td>198.799564</td>\n",
       "      <td>0.233115</td>\n",
       "      <td>136.809368</td>\n",
       "      <td>0.887364</td>\n",
       "      <td>0.553377</td>\n",
       "    </tr>\n",
       "    <tr>\n",
       "      <th>std</th>\n",
       "      <td>9.432617</td>\n",
       "      <td>18.514154</td>\n",
       "      <td>109.384145</td>\n",
       "      <td>0.423046</td>\n",
       "      <td>25.460334</td>\n",
       "      <td>1.066570</td>\n",
       "      <td>0.497414</td>\n",
       "    </tr>\n",
       "    <tr>\n",
       "      <th>min</th>\n",
       "      <td>28.000000</td>\n",
       "      <td>0.000000</td>\n",
       "      <td>0.000000</td>\n",
       "      <td>0.000000</td>\n",
       "      <td>60.000000</td>\n",
       "      <td>-2.600000</td>\n",
       "      <td>0.000000</td>\n",
       "    </tr>\n",
       "    <tr>\n",
       "      <th>25%</th>\n",
       "      <td>47.000000</td>\n",
       "      <td>120.000000</td>\n",
       "      <td>173.250000</td>\n",
       "      <td>0.000000</td>\n",
       "      <td>120.000000</td>\n",
       "      <td>0.000000</td>\n",
       "      <td>0.000000</td>\n",
       "    </tr>\n",
       "    <tr>\n",
       "      <th>50%</th>\n",
       "      <td>54.000000</td>\n",
       "      <td>130.000000</td>\n",
       "      <td>223.000000</td>\n",
       "      <td>0.000000</td>\n",
       "      <td>138.000000</td>\n",
       "      <td>0.600000</td>\n",
       "      <td>1.000000</td>\n",
       "    </tr>\n",
       "    <tr>\n",
       "      <th>75%</th>\n",
       "      <td>60.000000</td>\n",
       "      <td>140.000000</td>\n",
       "      <td>267.000000</td>\n",
       "      <td>0.000000</td>\n",
       "      <td>156.000000</td>\n",
       "      <td>1.500000</td>\n",
       "      <td>1.000000</td>\n",
       "    </tr>\n",
       "    <tr>\n",
       "      <th>max</th>\n",
       "      <td>77.000000</td>\n",
       "      <td>200.000000</td>\n",
       "      <td>603.000000</td>\n",
       "      <td>1.000000</td>\n",
       "      <td>202.000000</td>\n",
       "      <td>6.200000</td>\n",
       "      <td>1.000000</td>\n",
       "    </tr>\n",
       "  </tbody>\n",
       "</table>\n",
       "</div>"
      ],
      "text/plain": [
       "              Age   RestingBP  Cholesterol   FastingBS       MaxHR  \\\n",
       "count  918.000000  918.000000   918.000000  918.000000  918.000000   \n",
       "mean    53.510893  132.396514   198.799564    0.233115  136.809368   \n",
       "std      9.432617   18.514154   109.384145    0.423046   25.460334   \n",
       "min     28.000000    0.000000     0.000000    0.000000   60.000000   \n",
       "25%     47.000000  120.000000   173.250000    0.000000  120.000000   \n",
       "50%     54.000000  130.000000   223.000000    0.000000  138.000000   \n",
       "75%     60.000000  140.000000   267.000000    0.000000  156.000000   \n",
       "max     77.000000  200.000000   603.000000    1.000000  202.000000   \n",
       "\n",
       "          Oldpeak  HeartDisease  \n",
       "count  918.000000    918.000000  \n",
       "mean     0.887364      0.553377  \n",
       "std      1.066570      0.497414  \n",
       "min     -2.600000      0.000000  \n",
       "25%      0.000000      0.000000  \n",
       "50%      0.600000      1.000000  \n",
       "75%      1.500000      1.000000  \n",
       "max      6.200000      1.000000  "
      ]
     },
     "execution_count": 67,
     "metadata": {},
     "output_type": "execute_result"
    }
   ],
   "source": [
    "df.describe()"
   ]
  },
  {
   "cell_type": "markdown",
   "id": "6eb203c4",
   "metadata": {
    "papermill": {
     "duration": 0.019089,
     "end_time": "2023-08-09T17:50:48.893544",
     "exception": false,
     "start_time": "2023-08-09T17:50:48.874455",
     "status": "completed"
    },
    "tags": []
   },
   "source": [
    "**All column names**"
   ]
  },
  {
   "cell_type": "code",
   "execution_count": 68,
   "id": "d60e6ac8",
   "metadata": {
    "execution": {
     "iopub.execute_input": "2023-08-09T17:50:48.936328Z",
     "iopub.status.busy": "2023-08-09T17:50:48.935925Z",
     "iopub.status.idle": "2023-08-09T17:50:48.943268Z",
     "shell.execute_reply": "2023-08-09T17:50:48.942118Z"
    },
    "papermill": {
     "duration": 0.031288,
     "end_time": "2023-08-09T17:50:48.945636",
     "exception": false,
     "start_time": "2023-08-09T17:50:48.914348",
     "status": "completed"
    },
    "tags": []
   },
   "outputs": [
    {
     "data": {
      "text/plain": [
       "Index(['Age', 'Sex', 'ChestPainType', 'RestingBP', 'Cholesterol', 'FastingBS',\n",
       "       'RestingECG', 'MaxHR', 'ExerciseAngina', 'Oldpeak', 'ST_Slope',\n",
       "       'HeartDisease'],\n",
       "      dtype='object')"
      ]
     },
     "execution_count": 68,
     "metadata": {},
     "output_type": "execute_result"
    }
   ],
   "source": [
    "df.columns"
   ]
  },
  {
   "cell_type": "markdown",
   "id": "e5a1924a",
   "metadata": {},
   "source": [
    "# Data Visualization"
   ]
  },
  {
   "cell_type": "markdown",
   "id": "22ce6199",
   "metadata": {
    "papermill": {
     "duration": 0.04523,
     "end_time": "2023-08-09T17:52:27.994553",
     "exception": false,
     "start_time": "2023-08-09T17:52:27.949323",
     "status": "completed"
    },
    "tags": []
   },
   "source": [
    "**Count of the number of patients with diseases vs with no diseases**"
   ]
  },
  {
   "cell_type": "code",
   "execution_count": 69,
   "id": "d2389dcc",
   "metadata": {
    "execution": {
     "iopub.execute_input": "2023-08-09T17:52:28.093902Z",
     "iopub.status.busy": "2023-08-09T17:52:28.092527Z",
     "iopub.status.idle": "2023-08-09T17:52:28.273743Z",
     "shell.execute_reply": "2023-08-09T17:52:28.272587Z"
    },
    "papermill": {
     "duration": 0.234321,
     "end_time": "2023-08-09T17:52:28.276336",
     "exception": false,
     "start_time": "2023-08-09T17:52:28.042015",
     "status": "completed"
    },
    "tags": []
   },
   "outputs": [
    {
     "data": {
      "text/plain": [
       "<Axes: xlabel='HeartDisease', ylabel='count'>"
      ]
     },
     "execution_count": 69,
     "metadata": {},
     "output_type": "execute_result"
    },
    {
     "data": {
      "image/png": "[encoded data removed]",
      "text/plain": [
       "<Figure size 640x480 with 1 Axes>"
      ]
     },
     "metadata": {},
     "output_type": "display_data"
    }
   ],
   "source": [
    "sns.countplot(x='HeartDisease', data = df)"
   ]
  },
  {
   "cell_type": "markdown",
   "id": "5141d499",
   "metadata": {
    "papermill": {
     "duration": 0.045762,
     "end_time": "2023-08-09T17:52:28.367858",
     "exception": false,
     "start_time": "2023-08-09T17:52:28.322096",
     "status": "completed"
    },
    "tags": []
   },
   "source": [
    "**Pie chart showing the percentage of male patients vs female**"
   ]
  },
  {
   "cell_type": "code",
   "execution_count": 70,
   "id": "5ef6bc11",
   "metadata": {
    "execution": {
     "iopub.execute_input": "2023-08-09T17:52:28.462536Z",
     "iopub.status.busy": "2023-08-09T17:52:28.461363Z",
     "iopub.status.idle": "2023-08-09T17:52:28.623102Z",
     "shell.execute_reply": "2023-08-09T17:52:28.621450Z"
    },
    "papermill": {
     "duration": 0.213534,
     "end_time": "2023-08-09T17:52:28.627338",
     "exception": false,
     "start_time": "2023-08-09T17:52:28.413804",
     "status": "completed"
    },
    "tags": []
   },
   "outputs": [
    {
     "data": {
      "text/plain": [
       "<Axes: ylabel='Sex'>"
      ]
     },
     "execution_count": 70,
     "metadata": {},
     "output_type": "execute_result"
    },
    {
     "data": {
      "image/png": "[encoded data removed]",
      "text/plain": [
       "<Figure size 640x480 with 1 Axes>"
      ]
     },
     "metadata": {},
     "output_type": "display_data"
    }
   ],
   "source": [
    "df['Sex'].value_counts().plot.pie(autopct='%.2f')"
   ]
  },
  {
   "cell_type": "markdown",
   "id": "e7f96a34",
   "metadata": {
    "papermill": {
     "duration": 0.046949,
     "end_time": "2023-08-09T17:52:28.754218",
     "exception": false,
     "start_time": "2023-08-09T17:52:28.707269",
     "status": "completed"
    },
    "tags": []
   },
   "source": [
    "**Chest pain type based on Target variable**"
   ]
  },
  {
   "cell_type": "code",
   "execution_count": 71,
   "id": "2519d1ca",
   "metadata": {
    "execution": {
     "iopub.execute_input": "2023-08-09T17:52:28.851924Z",
     "iopub.status.busy": "2023-08-09T17:52:28.851153Z",
     "iopub.status.idle": "2023-08-09T17:52:29.519027Z",
     "shell.execute_reply": "2023-08-09T17:52:29.518084Z"
    },
    "papermill": {
     "duration": 0.720411,
     "end_time": "2023-08-09T17:52:29.521440",
     "exception": false,
     "start_time": "2023-08-09T17:52:28.801029",
     "status": "completed"
    },
    "tags": []
   },
   "outputs": [
    {
     "data": {
      "text/plain": [
       "<Axes: xlabel='ChestPainType', ylabel='Age'>"
      ]
     },
     "execution_count": 71,
     "metadata": {},
     "output_type": "execute_result"
    },
    {
     "data": {
      "image/png": "[encoded data removed]",
      "text/plain": [
       "<Figure size 640x480 with 1 Axes>"
      ]
     },
     "metadata": {},
     "output_type": "display_data"
    }
   ],
   "source": [
    "sns.barplot(y='Age',x='ChestPainType',data=df,hue='HeartDisease')"
   ]
  },
  {
   "cell_type": "markdown",
   "id": "1379b5f2",
   "metadata": {
    "papermill": {
     "duration": 0.047357,
     "end_time": "2023-08-09T17:52:29.617371",
     "exception": false,
     "start_time": "2023-08-09T17:52:29.570014",
     "status": "completed"
    },
    "tags": []
   },
   "source": [
    "**Distribution of the age of the patients**"
   ]
  },
  {
   "cell_type": "code",
   "execution_count": 72,
   "id": "612f6387",
   "metadata": {
    "execution": {
     "iopub.execute_input": "2023-08-09T17:52:29.716762Z",
     "iopub.status.busy": "2023-08-09T17:52:29.715967Z",
     "iopub.status.idle": "2023-08-09T17:52:30.450042Z",
     "shell.execute_reply": "2023-08-09T17:52:30.448791Z"
    },
    "papermill": {
     "duration": 0.787097,
     "end_time": "2023-08-09T17:52:30.452588",
     "exception": false,
     "start_time": "2023-08-09T17:52:29.665491",
     "status": "completed"
    },
    "tags": []
   },
   "outputs": [
    {
     "data": {
      "text/plain": [
       "<Axes: xlabel='Age', ylabel='Density'>"
      ]
     },
     "execution_count": 72,
     "metadata": {},
     "output_type": "execute_result"
    },
    {
     "data": {
      "image/png": "[encoded data removed]",
      "text/plain": [
       "<Figure size 640x480 with 1 Axes>"
      ]
     },
     "metadata": {},
     "output_type": "display_data"
    }
   ],
   "source": [
    "sns.distplot(df['Age'], kde=True)"
   ]
  },
  {
   "cell_type": "markdown",
   "id": "8a828d24",
   "metadata": {
    "papermill": {
     "duration": 0.049428,
     "end_time": "2023-08-09T17:52:30.553748",
     "exception": false,
     "start_time": "2023-08-09T17:52:30.504320",
     "status": "completed"
    },
    "tags": []
   },
   "source": [
    "**Correlation graph of all variables**"
   ]
  },
  {
   "cell_type": "code",
   "execution_count": 73,
   "id": "1b7b6e78",
   "metadata": {
    "execution": {
     "iopub.execute_input": "2023-08-09T17:52:30.654641Z",
     "iopub.status.busy": "2023-08-09T17:52:30.653868Z",
     "iopub.status.idle": "2023-08-09T17:52:31.889261Z",
     "shell.execute_reply": "2023-08-09T17:52:31.888017Z"
    },
    "papermill": {
     "duration": 1.289903,
     "end_time": "2023-08-09T17:52:31.892259",
     "exception": false,
     "start_time": "2023-08-09T17:52:30.602356",
     "status": "completed"
    },
    "tags": []
   },
   "outputs": [
    {
     "data": {
      "text/plain": [
       "<Axes: >"
      ]
     },
     "execution_count": 73,
     "metadata": {},
     "output_type": "execute_result"
    },
    {
     "data": {
      "image/png": "[encoded data removed]",
      "text/plain": [
       "<Figure size 1500x1500 with 2 Axes>"
      ]
     },
     "metadata": {},
     "output_type": "display_data"
    }
   ],
   "source": [
    "corr=df.corr()\n",
    "plt.figure(figsize= (15,15))\n",
    "sns.heatmap(corr, linewidth=1,annot=True,linecolor='white')"
   ]
  },
  {
   "cell_type": "markdown",
   "id": "0319c2ca",
   "metadata": {
    "papermill": {
     "duration": 0.052056,
     "end_time": "2023-08-09T17:52:31.998318",
     "exception": false,
     "start_time": "2023-08-09T17:52:31.946262",
     "status": "completed"
    },
    "tags": []
   },
   "source": [
    "**Defining the independent X variables and dependent y variables**"
   ]
  },
  {
   "cell_type": "code",
   "execution_count": 74,
   "id": "af8dd99d",
   "metadata": {},
   "outputs": [],
   "source": [
    "X = df[['Age','RestingBP','Cholesterol','FastingBS','MaxHR','Oldpeak']]\n",
    "y = df['HeartDisease']"
   ]
  },
  {
   "cell_type": "code",
   "execution_count": 75,
   "id": "635acd3b",
   "metadata": {
    "execution": {
     "iopub.execute_input": "2023-08-09T17:52:32.319009Z",
     "iopub.status.busy": "2023-08-09T17:52:32.318198Z",
     "iopub.status.idle": "2023-08-09T17:52:32.616373Z",
     "shell.execute_reply": "2023-08-09T17:52:32.615227Z"
    },
    "papermill": {
     "duration": 0.35337,
     "end_time": "2023-08-09T17:52:32.619299",
     "exception": false,
     "start_time": "2023-08-09T17:52:32.265929",
     "status": "completed"
    },
    "tags": []
   },
   "outputs": [],
   "source": [
    "from sklearn.model_selection import train_test_split"
   ]
  },
  {
   "cell_type": "code",
   "execution_count": 76,
   "id": "1f99a528",
   "metadata": {
    "execution": {
     "iopub.execute_input": "2023-08-09T17:52:32.730109Z",
     "iopub.status.busy": "2023-08-09T17:52:32.729268Z",
     "iopub.status.idle": "2023-08-09T17:52:32.738229Z",
     "shell.execute_reply": "2023-08-09T17:52:32.737013Z"
    },
    "papermill": {
     "duration": 0.070526,
     "end_time": "2023-08-09T17:52:32.741073",
     "exception": false,
     "start_time": "2023-08-09T17:52:32.670547",
     "status": "completed"
    },
    "tags": []
   },
   "outputs": [],
   "source": [
    "X_train, X_test, y_train, y_test = train_test_split(X, y, test_size=0.25, random_state=42)"
   ]
  },
  {
   "cell_type": "markdown",
   "id": "40f82070",
   "metadata": {
    "papermill": {
     "duration": 0.054879,
     "end_time": "2023-08-09T17:52:32.847912",
     "exception": false,
     "start_time": "2023-08-09T17:52:32.793033",
     "status": "completed"
    },
    "tags": []
   },
   "source": [
    "# Feature Scaling "
   ]
  },
  {
   "cell_type": "code",
   "execution_count": 77,
   "id": "f5bf4391",
   "metadata": {
    "execution": {
     "iopub.execute_input": "2023-08-09T17:52:32.977805Z",
     "iopub.status.busy": "2023-08-09T17:52:32.977234Z",
     "iopub.status.idle": "2023-08-09T17:52:32.983008Z",
     "shell.execute_reply": "2023-08-09T17:52:32.981689Z"
    },
    "papermill": {
     "duration": 0.071016,
     "end_time": "2023-08-09T17:52:32.985612",
     "exception": false,
     "start_time": "2023-08-09T17:52:32.914596",
     "status": "completed"
    },
    "tags": []
   },
   "outputs": [],
   "source": [
    "from sklearn.preprocessing import StandardScaler"
   ]
  },
  {
   "cell_type": "code",
   "execution_count": 78,
   "id": "e43713f6",
   "metadata": {
    "execution": {
     "iopub.execute_input": "2023-08-09T17:52:33.100615Z",
     "iopub.status.busy": "2023-08-09T17:52:33.099693Z",
     "iopub.status.idle": "2023-08-09T17:52:33.115938Z",
     "shell.execute_reply": "2023-08-09T17:52:33.114848Z"
    },
    "papermill": {
     "duration": 0.077319,
     "end_time": "2023-08-09T17:52:33.118852",
     "exception": false,
     "start_time": "2023-08-09T17:52:33.041533",
     "status": "completed"
    },
    "tags": []
   },
   "outputs": [],
   "source": [
    "scaler = StandardScaler()\n",
    "X_train = scaler.fit_transform(X_train)\n",
    "X_test = scaler.fit_transform(X_test)"
   ]
  },
  {
   "cell_type": "markdown",
   "id": "6bdc8ed3",
   "metadata": {
    "papermill": {
     "duration": 0.051158,
     "end_time": "2023-08-09T17:52:33.222001",
     "exception": false,
     "start_time": "2023-08-09T17:52:33.170843",
     "status": "completed"
    },
    "tags": []
   },
   "source": [
    "# Logistic Regression"
   ]
  },
  {
   "cell_type": "markdown",
   "id": "47322cdb",
   "metadata": {
    "papermill": {
     "duration": 0.052134,
     "end_time": "2023-08-09T17:52:33.325996",
     "exception": false,
     "start_time": "2023-08-09T17:52:33.273862",
     "status": "completed"
    },
    "tags": []
   },
   "source": [
    "Logistic regression is a supervised machine learning algorithm mainly used for classification tasks where the goal is to predict the probability that an instance of belonging to a given class. It is used for classification algorithms its name is logistic regression. it’s referred to as regression because it takes the output of the linear regression function as input and uses a sigmoid function to estimate the probability for the given class.\n",
    "\n",
    "![Sigmoid Curve](data:image/png;base64,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)"
   ]
  },
  {
   "cell_type": "code",
   "execution_count": 79,
   "id": "e0eecf29",
   "metadata": {
    "execution": {
     "iopub.execute_input": "2023-08-09T17:52:33.432950Z",
     "iopub.status.busy": "2023-08-09T17:52:33.432502Z",
     "iopub.status.idle": "2023-08-09T17:52:33.538865Z",
     "shell.execute_reply": "2023-08-09T17:52:33.537699Z"
    },
    "papermill": {
     "duration": 0.163752,
     "end_time": "2023-08-09T17:52:33.541756",
     "exception": false,
     "start_time": "2023-08-09T17:52:33.378004",
     "status": "completed"
    },
    "tags": []
   },
   "outputs": [],
   "source": [
    "from sklearn.linear_model import  LogisticRegression"
   ]
  },
  {
   "cell_type": "code",
   "execution_count": 80,
   "id": "b8830375",
   "metadata": {
    "execution": {
     "iopub.execute_input": "2023-08-09T17:52:33.647870Z",
     "iopub.status.busy": "2023-08-09T17:52:33.646848Z",
     "iopub.status.idle": "2023-08-09T17:52:33.669284Z",
     "shell.execute_reply": "2023-08-09T17:52:33.667528Z"
    },
    "papermill": {
     "duration": 0.080661,
     "end_time": "2023-08-09T17:52:33.674156",
     "exception": false,
     "start_time": "2023-08-09T17:52:33.593495",
     "status": "completed"
    },
    "tags": []
   },
   "outputs": [
    {
     "data": {
      "text/plain": [
       "0.7869565217391304"
      ]
     },
     "execution_count": 80,
     "metadata": {},
     "output_type": "execute_result"
    }
   ],
   "source": [
    "lr=LogisticRegression()\n",
    "model_lr=lr.fit(X_train, y_train)\n",
    "pred_lr = model_lr.predict(X_test)\n",
    "lr_acc = model_lr.score(X_test,y_test)\n",
    "lr_acc"
   ]
  },
  {
   "cell_type": "code",
   "execution_count": 81,
   "id": "b72e95b9",
   "metadata": {
    "execution": {
     "iopub.execute_input": "2023-08-09T17:52:33.835862Z",
     "iopub.status.busy": "2023-08-09T17:52:33.835446Z",
     "iopub.status.idle": "2023-08-09T17:52:33.841236Z",
     "shell.execute_reply": "2023-08-09T17:52:33.839757Z"
    },
    "papermill": {
     "duration": 0.062975,
     "end_time": "2023-08-09T17:52:33.843681",
     "exception": false,
     "start_time": "2023-08-09T17:52:33.780706",
     "status": "completed"
    },
    "tags": []
   },
   "outputs": [],
   "source": [
    "from sklearn.metrics import confusion_matrix, accuracy_score, precision_score, recall_score, f1_score"
   ]
  },
  {
   "cell_type": "code",
   "execution_count": 82,
   "id": "662ee40e",
   "metadata": {},
   "outputs": [
    {
     "name": "stdout",
     "output_type": "stream",
     "text": [
      "Confusion Matrix   : [[ 76  22]\n",
      " [ 27 105]]\n",
      "Accuracy   : 0.7869565217391304\n",
      "Precision : 0.8267716535433071\n",
      "Recall    : 0.7954545454545454\n",
      "F1-score  : 0.8108108108108109\n"
     ]
    }
   ],
   "source": [
    "cm_lr=confusion_matrix(y_test,pred_lr)\n",
    "print(\"Confusion Matrix   :\", cm_lr)\n",
    "accuracy_lr = accuracy_score(y_test, pred_lr)\n",
    "print(\"Accuracy   :\", accuracy_lr)\n",
    "precision_lr = precision_score(y_test, pred_lr)\n",
    "print(\"Precision :\", precision_lr)\n",
    "recall_lr = recall_score(y_test, pred_lr)\n",
    "print(\"Recall    :\", recall_lr)\n",
    "F1_score_lr = f1_score(y_test, pred_lr)\n",
    "print(\"F1-score  :\", F1_score_lr)"
   ]
  },
  {
   "cell_type": "markdown",
   "id": "ae5a6385",
   "metadata": {
    "papermill": {
     "duration": 0.051832,
     "end_time": "2023-08-09T17:52:34.076114",
     "exception": false,
     "start_time": "2023-08-09T17:52:34.024282",
     "status": "completed"
    },
    "tags": []
   },
   "source": [
    "# Random Forest Classifier"
   ]
  },
  {
   "cell_type": "markdown",
   "id": "aca43682",
   "metadata": {
    "papermill": {
     "duration": 0.0518,
     "end_time": "2023-08-09T17:52:34.180695",
     "exception": false,
     "start_time": "2023-08-09T17:52:34.128895",
     "status": "completed"
    },
    "tags": []
   },
   "source": [
    "Random Forest is one of the most popular and commonly used algorithms by Data Scientists. Random forest is a Supervised Machine Learning Algorithm that is used widely in Classification and Regression problems. It builds decision trees on different samples and takes their majority vote for classification and average in case of regression.\n",
    "\n",
    "Random forest is a versatile machine learning algorithm developed by Leo Breiman and Adele Cutler. It leverages an ensemble of multiple decision trees to generate predictions or classifications. By combining the outputs of these trees, the random forest algorithm delivers a consolidated and more accurate result.\n",
    "\n",
    "Its widespread popularity stems from its user-friendly nature and adaptability, enabling it to tackle both classification and regression problems effectively. The algorithm’s strength lies in its ability to handle complex datasets and mitigate overfitting, making it a valuable tool for various predictive tasks in machine learning.\n",
    "\n",
    "One of the most important features of the Random Forest Algorithm is that it can handle the data set containing continuous variables, as in the case of regression, and categorical variables, as in the case of classification. It performs better for classification and regression tasks.\n",
    "\n",
    "![Random Forest Classifier](https://www.tibco.com/sites/tibco/files/media_entity/2021-05/random-forest-diagram.svg)"
   ]
  },
  {
   "cell_type": "code",
   "execution_count": 83,
   "id": "42977507",
   "metadata": {
    "execution": {
     "iopub.execute_input": "2023-08-09T17:52:34.285776Z",
     "iopub.status.busy": "2023-08-09T17:52:34.285366Z",
     "iopub.status.idle": "2023-08-09T17:52:34.594198Z",
     "shell.execute_reply": "2023-08-09T17:52:34.593142Z"
    },
    "papermill": {
     "duration": 0.36467,
     "end_time": "2023-08-09T17:52:34.596887",
     "exception": false,
     "start_time": "2023-08-09T17:52:34.232217",
     "status": "completed"
    },
    "tags": []
   },
   "outputs": [],
   "source": [
    "from sklearn.ensemble import RandomForestClassifier"
   ]
  },
  {
   "cell_type": "code",
   "execution_count": 84,
   "id": "c8663d8b",
   "metadata": {
    "execution": {
     "iopub.execute_input": "2023-08-09T17:52:34.701902Z",
     "iopub.status.busy": "2023-08-09T17:52:34.700875Z",
     "iopub.status.idle": "2023-08-09T17:52:35.544417Z",
     "shell.execute_reply": "2023-08-09T17:52:35.543322Z"
    },
    "papermill": {
     "duration": 0.898963,
     "end_time": "2023-08-09T17:52:35.547255",
     "exception": false,
     "start_time": "2023-08-09T17:52:34.648292",
     "status": "completed"
    },
    "tags": []
   },
   "outputs": [
    {
     "data": {
      "text/plain": [
       "0.7652173913043478"
      ]
     },
     "execution_count": 84,
     "metadata": {},
     "output_type": "execute_result"
    }
   ],
   "source": [
    "rf = RandomForestClassifier(n_estimators=100, random_state=50, max_depth=5)\n",
    "rf.fit(X_train, y_train)\n",
    "pred_rf = rf.predict(X_test)\n",
    "lr_acc1 = rf.score(X_test,y_test)\n",
    "lr_acc1"
   ]
  },
  {
   "cell_type": "code",
   "execution_count": 85,
   "id": "43e9cf6e",
   "metadata": {
    "execution": {
     "iopub.execute_input": "2023-08-09T17:52:35.652044Z",
     "iopub.status.busy": "2023-08-09T17:52:35.651243Z",
     "iopub.status.idle": "2023-08-09T17:52:35.669647Z",
     "shell.execute_reply": "2023-08-09T17:52:35.667573Z"
    },
    "papermill": {
     "duration": 0.074744,
     "end_time": "2023-08-09T17:52:35.672843",
     "exception": false,
     "start_time": "2023-08-09T17:52:35.598099",
     "status": "completed"
    },
    "tags": []
   },
   "outputs": [
    {
     "name": "stdout",
     "output_type": "stream",
     "text": [
      "Confusion Matrix   : [[ 70  28]\n",
      " [ 26 106]]\n",
      "Accuracy   : 0.7652173913043478\n",
      "Precision : 0.7910447761194029\n",
      "Recall    : 0.803030303030303\n",
      "F1-score  : 0.7969924812030075\n"
     ]
    }
   ],
   "source": [
    "cm_rf=confusion_matrix(y_test,pred_rf)\n",
    "print(\"Confusion Matrix   :\", cm_rf)\n",
    "accuracy_rf = accuracy_score(y_test, pred_rf)\n",
    "print(\"Accuracy   :\", accuracy_rf)\n",
    "precision_rf = precision_score(y_test, pred_rf)\n",
    "print(\"Precision :\", precision_rf)\n",
    "recall_rf = recall_score(y_test, pred_rf)\n",
    "print(\"Recall    :\", recall_rf)\n",
    "F1_score_rf = f1_score(y_test, pred_rf)\n",
    "print(\"F1-score  :\", F1_score_rf)"
   ]
  },
  {
   "cell_type": "markdown",
   "id": "64ed8b4a",
   "metadata": {
    "papermill": {
     "duration": 0.052218,
     "end_time": "2023-08-09T17:52:35.777416",
     "exception": false,
     "start_time": "2023-08-09T17:52:35.725198",
     "status": "completed"
    },
    "tags": []
   },
   "source": [
    "# Support Vector Machine (SVM)"
   ]
  },
  {
   "cell_type": "markdown",
   "id": "e6dac85d",
   "metadata": {
    "papermill": {
     "duration": 0.051829,
     "end_time": "2023-08-09T17:52:35.881714",
     "exception": false,
     "start_time": "2023-08-09T17:52:35.829885",
     "status": "completed"
    },
    "tags": []
   },
   "source": [
    "SVM is a powerful supervised algorithm that works best on smaller datasets but on complex ones. Support Vector Machine, abbreviated as SVM can be used for both regression and classification tasks, but generally, they work best in classification problems. They were very famous around the time they were created, during the 1990s, and keep on being the go-to method for a high-performing algorithm with a little tuning.\n",
    "\n",
    "![SVM](https://nl.mathworks.com/discovery/support-vector-machine/_jcr_content/mainParsys/image.adapt.full.medium.jpg/1689248290697.jpg)"
   ]
  },
  {
   "cell_type": "code",
   "execution_count": 86,
   "id": "0a59915e",
   "metadata": {
    "execution": {
     "iopub.execute_input": "2023-08-09T17:52:35.990632Z",
     "iopub.status.busy": "2023-08-09T17:52:35.990155Z",
     "iopub.status.idle": "2023-08-09T17:52:35.995559Z",
     "shell.execute_reply": "2023-08-09T17:52:35.994262Z"
    },
    "papermill": {
     "duration": 0.063659,
     "end_time": "2023-08-09T17:52:35.998132",
     "exception": false,
     "start_time": "2023-08-09T17:52:35.934473",
     "status": "completed"
    },
    "tags": []
   },
   "outputs": [],
   "source": [
    "from sklearn.svm import SVC\n",
    "from sklearn.metrics import confusion_matrix"
   ]
  },
  {
   "cell_type": "code",
   "execution_count": 87,
   "id": "eabc2d0b",
   "metadata": {
    "execution": {
     "iopub.execute_input": "2023-08-09T17:52:36.107955Z",
     "iopub.status.busy": "2023-08-09T17:52:36.107491Z",
     "iopub.status.idle": "2023-08-09T17:52:36.132813Z",
     "shell.execute_reply": "2023-08-09T17:52:36.131377Z"
    },
    "papermill": {
     "duration": 0.083385,
     "end_time": "2023-08-09T17:52:36.135826",
     "exception": false,
     "start_time": "2023-08-09T17:52:36.052441",
     "status": "completed"
    },
    "tags": []
   },
   "outputs": [
    {
     "data": {
      "text/plain": [
       "0.7739130434782608"
      ]
     },
     "execution_count": 87,
     "metadata": {},
     "output_type": "execute_result"
    }
   ],
   "source": [
    "svc =  SVC(C=2)\n",
    "svc.fit(X_train, y_train)\n",
    "pred_svm = svc.predict(X_test)\n",
    "lr_acc2 = svc.score(X_test,y_test)\n",
    "lr_acc2"
   ]
  },
  {
   "cell_type": "code",
   "execution_count": 88,
   "id": "83c35a04",
   "metadata": {
    "execution": {
     "iopub.execute_input": "2023-08-09T17:52:36.242445Z",
     "iopub.status.busy": "2023-08-09T17:52:36.242012Z",
     "iopub.status.idle": "2023-08-09T17:52:36.262465Z",
     "shell.execute_reply": "2023-08-09T17:52:36.261283Z"
    },
    "papermill": {
     "duration": 0.07802,
     "end_time": "2023-08-09T17:52:36.265330",
     "exception": false,
     "start_time": "2023-08-09T17:52:36.187310",
     "status": "completed"
    },
    "tags": []
   },
   "outputs": [
    {
     "name": "stdout",
     "output_type": "stream",
     "text": [
      "Confusion Matrix   : [[ 78  20]\n",
      " [ 32 100]]\n",
      "Accuracy   : 0.7739130434782608\n",
      "Precision : 0.8333333333333334\n",
      "Recall    : 0.7575757575757576\n",
      "F1-score  : 0.7936507936507938\n"
     ]
    }
   ],
   "source": [
    "cm_svm=confusion_matrix(y_test,pred_svm)\n",
    "print(\"Confusion Matrix   :\", cm_svm)\n",
    "accuracy_svm = accuracy_score(y_test, pred_svm)\n",
    "print(\"Accuracy   :\", accuracy_svm)\n",
    "precision_svm = precision_score(y_test, pred_svm)\n",
    "print(\"Precision :\", precision_svm)\n",
    "recall_svm = recall_score(y_test, pred_svm)\n",
    "print(\"Recall    :\", recall_svm)\n",
    "F1_score_svm = f1_score(y_test, pred_svm)\n",
    "print(\"F1-score  :\", F1_score_svm)"
   ]
  },
  {
   "cell_type": "markdown",
   "id": "5409af8c",
   "metadata": {
    "papermill": {
     "duration": 0.052046,
     "end_time": "2023-08-09T17:52:36.369089",
     "exception": false,
     "start_time": "2023-08-09T17:52:36.317043",
     "status": "completed"
    },
    "tags": []
   },
   "source": [
    "# KNN"
   ]
  },
  {
   "cell_type": "markdown",
   "id": "6320ffce",
   "metadata": {
    "papermill": {
     "duration": 0.052219,
     "end_time": "2023-08-09T17:52:36.473570",
     "exception": false,
     "start_time": "2023-08-09T17:52:36.421351",
     "status": "completed"
    },
    "tags": []
   },
   "source": [
    "The k-nearest neighbors algorithm, also known as KNN or k-NN, is a non-parametric, supervised learning classifier, which uses proximity to make classifications or predictions about the grouping of an individual data point. While it can be used for either regression or classification problems, it is typically used as a classification algorithm, working off the assumption that similar points can be found near one another.\n",
    "\n",
    "![](https://static.javatpoint.com/tutorial/machine-learning/images/k-nearest-neighbor-algorithm-for-machine-learning2.png)"
   ]
  },
  {
   "cell_type": "code",
   "execution_count": 89,
   "id": "19df4771",
   "metadata": {
    "execution": {
     "iopub.execute_input": "2023-08-09T17:52:36.580288Z",
     "iopub.status.busy": "2023-08-09T17:52:36.579911Z",
     "iopub.status.idle": "2023-08-09T17:52:36.584996Z",
     "shell.execute_reply": "2023-08-09T17:52:36.583840Z"
    },
    "papermill": {
     "duration": 0.061941,
     "end_time": "2023-08-09T17:52:36.587622",
     "exception": false,
     "start_time": "2023-08-09T17:52:36.525681",
     "status": "completed"
    },
    "tags": []
   },
   "outputs": [],
   "source": [
    "from sklearn.neighbors import KNeighborsClassifier\n",
    "from sklearn.metrics import confusion_matrix"
   ]
  },
  {
   "cell_type": "code",
   "execution_count": 90,
   "id": "e7137c7e",
   "metadata": {
    "execution": {
     "iopub.execute_input": "2023-08-09T17:52:36.696196Z",
     "iopub.status.busy": "2023-08-09T17:52:36.695450Z",
     "iopub.status.idle": "2023-08-09T17:52:36.722523Z",
     "shell.execute_reply": "2023-08-09T17:52:36.721428Z"
    },
    "papermill": {
     "duration": 0.084597,
     "end_time": "2023-08-09T17:52:36.725205",
     "exception": false,
     "start_time": "2023-08-09T17:52:36.640608",
     "status": "completed"
    },
    "tags": []
   },
   "outputs": [],
   "source": [
    "knn = KNeighborsClassifier(n_neighbors=5)\n",
    "knn.fit(X_train, y_train)\n",
    "pred_knn = knn.predict(X_test)"
   ]
  },
  {
   "cell_type": "code",
   "execution_count": 91,
   "id": "dcaa9e2f",
   "metadata": {
    "execution": {
     "iopub.execute_input": "2023-08-09T17:52:36.831040Z",
     "iopub.status.busy": "2023-08-09T17:52:36.830618Z",
     "iopub.status.idle": "2023-08-09T17:52:36.848475Z",
     "shell.execute_reply": "2023-08-09T17:52:36.846740Z"
    },
    "papermill": {
     "duration": 0.073092,
     "end_time": "2023-08-09T17:52:36.851126",
     "exception": false,
     "start_time": "2023-08-09T17:52:36.778034",
     "status": "completed"
    },
    "scrolled": true,
    "tags": []
   },
   "outputs": [
    {
     "name": "stdout",
     "output_type": "stream",
     "text": [
      "Confusion Matrix   : [[ 75  23]\n",
      " [ 27 105]]\n",
      "Accuracy   : 0.782608695652174\n",
      "Precision : 0.8203125\n",
      "Recall    : 0.7954545454545454\n",
      "F1-score  : 0.8076923076923076\n"
     ]
    }
   ],
   "source": [
    "cm_knn=confusion_matrix(y_test,pred_knn)\n",
    "print(\"Confusion Matrix   :\", cm_knn)\n",
    "accuracy_knn = accuracy_score(y_test, pred_knn)\n",
    "print(\"Accuracy   :\", accuracy_knn)\n",
    "precision_knn = precision_score(y_test, pred_knn)\n",
    "print(\"Precision :\", precision_knn)\n",
    "recall_knn = recall_score(y_test, pred_knn)\n",
    "print(\"Recall    :\", recall_knn)\n",
    "F1_score_knn= f1_score(y_test, pred_knn)\n",
    "print(\"F1-score  :\", F1_score_knn)"
   ]
  },
  {
   "cell_type": "markdown",
   "id": "8b09d566",
   "metadata": {},
   "source": [
    "# Deployment"
   ]
  },
  {
   "cell_type": "code",
   "execution_count": 92,
   "id": "0093113e",
   "metadata": {},
   "outputs": [
    {
     "name": "stdout",
     "output_type": "stream",
     "text": [
      "[1]\n"
     ]
    }
   ],
   "source": [
    "input_data=(40,160,180,0,156,1)\n",
    "input_data_np=np.array(input_data)\n",
    "input_data_re=input_data_np.reshape(1,-1)\n",
    "pred=rf.predict(input_data_re)\n",
    "print(pred)"
   ]
  },
  {
   "cell_type": "code",
   "execution_count": null,
   "id": "bfc954ec",
   "metadata": {},
   "outputs": [],
   "source": []
  }
 ],
 "metadata": {
  "kernelspec": {
   "display_name": "Python 3 (ipykernel)",
   "language": "python",
   "name": "python3"
  },
  "language_info": {
   "codemirror_mode": {
    "name": "ipython",
    "version": 3
   },
   "file_extension": ".py",
   "mimetype": "text/x-python",
   "name": "python",
   "nbconvert_exporter": "python",
   "pygments_lexer": "ipython3",
   "version": "3.10.9"
  },
  "papermill": {
   "default_parameters": {},
   "duration": 126.978025,
   "end_time": "2023-08-09T17:52:41.083379",
   "environment_variables": {},
   "exception": null,
   "input_path": "__notebook__.ipynb",
   "output_path": "__notebook__.ipynb",
   "parameters": {},
   "start_time": "2023-08-09T17:50:34.105354",
   "version": "2.4.0"
  }
 },
 "nbformat": 4,
 "nbformat_minor": 5
}
